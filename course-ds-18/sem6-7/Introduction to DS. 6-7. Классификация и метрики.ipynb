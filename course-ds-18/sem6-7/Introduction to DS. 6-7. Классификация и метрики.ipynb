{
 "cells": [
  {
   "cell_type": "code",
   "execution_count": null,
   "metadata": {
    "collapsed": false
   },
   "outputs": [],
   "source": [
    "%pylab inline"
   ]
  },
  {
   "cell_type": "markdown",
   "metadata": {},
   "source": [
    "# Классификация"
   ]
  },
  {
   "cell_type": "markdown",
   "metadata": {},
   "source": [
    "Задача классификации - одна из задач машинного обучения, имея признаковое описание объекта нужно определить, представителем какой группы он является."
   ]
  },
  {
   "cell_type": "markdown",
   "metadata": {},
   "source": [
    "[Задача и данные для семинара](https://www.kaggle.com/iabhishekofficial/mobile-price-classification)"
   ]
  },
  {
   "cell_type": "markdown",
   "metadata": {},
   "source": [
    "Подробное описание задачи приводится на странице по вышеуказанной ссылке\n",
    "\n",
    "Как правило, цена телефона зависит от его характеристик. В данном случае предлагается предсказать не точную цену телефона а его ценовую категорию"
   ]
  },
  {
   "cell_type": "code",
   "execution_count": null,
   "metadata": {
    "collapsed": false
   },
   "outputs": [],
   "source": [
    "import pandas as pd\n",
    "import matplotlib.pyplot as plt\n",
    "import numpy as np"
   ]
  },
  {
   "cell_type": "code",
   "execution_count": null,
   "metadata": {
    "collapsed": false
   },
   "outputs": [],
   "source": [
    "data = pd.read_csv(\"train.csv\")"
   ]
  },
  {
   "cell_type": "code",
   "execution_count": null,
   "metadata": {
    "collapsed": false
   },
   "outputs": [],
   "source": [
    "data.head()"
   ]
  },
  {
   "cell_type": "code",
   "execution_count": null,
   "metadata": {
    "collapsed": false
   },
   "outputs": [],
   "source": [
    "data.price_range.unique()"
   ]
  },
  {
   "cell_type": "markdown",
   "metadata": {},
   "source": [
    "Для упрощения начальной задачи бинаризуем целевой признак. Сейчас там четыре класса, мы же упростим и будем предсказывать принадлежность телефона к классу \"подороже\""
   ]
  },
  {
   "cell_type": "code",
   "execution_count": null,
   "metadata": {
    "collapsed": false
   },
   "outputs": [],
   "source": [
    "data['price_range_bin'] = [1 if x > 1 else 0 for x in data.price_range]\n",
    "data.head()"
   ]
  },
  {
   "cell_type": "markdown",
   "metadata": {},
   "source": [
    "Для начала выделим из наших данных целевой признак"
   ]
  },
  {
   "cell_type": "code",
   "execution_count": null,
   "metadata": {
    "collapsed": false
   },
   "outputs": [],
   "source": [
    "y = data.price_range_bin.values\n",
    "X = data[data.columns[:-2]].values\n",
    "X.shape, y.shape"
   ]
  },
  {
   "cell_type": "markdown",
   "metadata": {},
   "source": [
    "Для того, чтобы понять, как хорошо мы обучаем предсказательную модель, нам нужна размеченная выборка, на которой мы будем проверять.\n",
    "Выборка, на которой мы учимся, не подходит для этих целей. Так как знания об этих объектах уже будут лежать в нашей модели, а в реальной жизни будут встречаться и новые, ранее неизвестные объекты.\n",
    "\n",
    "ВОПРОС: откуда нам взять размеченную выборку?"
   ]
  },
  {
   "cell_type": "code",
   "execution_count": null,
   "metadata": {
    "collapsed": false
   },
   "outputs": [],
   "source": [
    "from sklearn.model_selection import train_test_split\n",
    "\n",
    "X_train, X_test, y_train, y_test = train_test_split(X, y, test_size=0.33, random_state=2018)\n",
    "\n",
    "print (X_train.shape, y_train.shape)\n",
    "print (X_test.shape, y_test.shape)"
   ]
  },
  {
   "cell_type": "markdown",
   "metadata": {},
   "source": [
    "### Метод ближайшего соседа\n",
    "\n",
    "Самый простой способ предсказать класс объекта - это найти наиболее схожий с ним объект и приписать его к этому же классу.\n",
    "\n",
    "ВОПРОС: как определить схожесть между объектами в векторном представлении?\n",
    "\n",
    "ВОПРОС со звезочкой: почему евклидова метрика будет не очень хороша?"
   ]
  },
  {
   "cell_type": "markdown",
   "metadata": {},
   "source": [
    "$\\text{cosine_similarity} = \\cos(\\theta) = {a \\cdot b \\over \\|a\\| \\|b\\|} = \\frac{ \\sum\\limits_{i=1}^{n}{a_i \\times b_i} }{ \\sqrt{\\sum\\limits_{i=1}^{n}{(a_i)^2}} \\times \\sqrt{\\sum\\limits_{i=1}^{n}{(a_i)^2}} }$"
   ]
  },
  {
   "cell_type": "code",
   "execution_count": null,
   "metadata": {
    "collapsed": false
   },
   "outputs": [],
   "source": [
    "class NearestNeighbourPredictor(object):\n",
    "    def fit(self, X_train, y_train):\n",
    "        self.X_train = X_train\n",
    "        self.y_train = y_train\n",
    "        self.X_train_norm = np.linalg.norm(X_train, axis=1)\n",
    "    \n",
    "    def predict(self, X):\n",
    "        X_norm = np.linalg.norm(X, axis=1)\n",
    "        similarity = X.dot(self.X_train.T)\n",
    "        similarity = similarity / np.repeat(X_norm, len(self.X_train)).reshape((len(X), len(self.X_train)))\n",
    "        similarity = similarity / np.repeat(self.X_train_norm, len(X)).reshape((len(self.X_train), len(X))).T\n",
    "        most_similar = np.argmax(similarity, axis=1)\n",
    "        return np.array([y_train[x] for x in most_similar])"
   ]
  },
  {
   "cell_type": "code",
   "execution_count": null,
   "metadata": {
    "collapsed": false
   },
   "outputs": [],
   "source": [
    "nnPredictor = NearestNeighbourPredictor()\n",
    "nnPredictor.fit(X_train, y_train)\n",
    "y_predicted = nnPredictor.predict(X_test)"
   ]
  },
  {
   "cell_type": "markdown",
   "metadata": {
    "collapsed": false
   },
   "source": [
    "Данный подход - очень простая модель. у нее практически нет параметров (только метрика сходства).\n",
    "\n",
    "Предсказывая принадлежность телефона к сегменту дорогих, мы можем совершить ошибки двух типов\n",
    "* Ошибка первого рода (_type I errors, $\\alpha$ errors, false positives_): ложное срабатывание предсказательной модели, в нашем случае телефон отнесен к числу дорогих, будучи дешевым\n",
    "* Ошибка второго рода (_type II errors, $\\beta$ errors, false negatives_): модель не выявила дорогой телефон, отнеся его к дешевым\n",
    "\n",
    "ВОПРОС: Какая из этих ошибок критичнее? Что если речь идет о медицнском обследовании?\n",
    "\n",
    "ВОПРОС: Как нам оценить качество предсказывающей модели?"
   ]
  },
  {
   "cell_type": "markdown",
   "metadata": {},
   "source": [
    "Метрик на самом деле придумать можно очень много. Остановимся на основных\n",
    "\n",
    "![](http://blog.exsilio.com/wp-content/uploads/2016/09/table-blog.png)\n",
    "\n",
    "Точность (precision): $P = \\frac{TP}{TP + FP}$\n",
    "\n",
    "Полнота (Recall): $R = \\frac{TP}{TP + FN}$\n",
    "\n",
    "True Positive Rate: $TPR = \\frac{TP}{TP + FN}$\n",
    "\n",
    "False Positive Rate: $FPR = \\frac{FP}{FP + TN}$\n",
    "\n",
    "F-measure: $F = \\frac{1}{\\alpha\\frac{1}{P} + (1 - \\alpha)\\frac{1}{R}}$\n",
    "\n",
    "Попробуйте реализовать их самостоятельно:"
   ]
  },
  {
   "cell_type": "code",
   "execution_count": null,
   "metadata": {
    "collapsed": false
   },
   "outputs": [],
   "source": [
    "def precision(y_real, y_predicted):\n",
    "    pass\n",
    "    \n",
    "def recall(y_real, y_predicted):\n",
    "    pass\n",
    "\n",
    "def FMeasure(y_real, y_predicted, alpha = 0.5):\n",
    "    pass\n",
    "\n",
    "def truePositiveRate(y_real, y_predicted):\n",
    "    pass\n",
    "    \n",
    "def falsePositiveRate(y_real, y_predicted):\n",
    "    pass"
   ]
  },
  {
   "cell_type": "markdown",
   "metadata": {},
   "source": []
  },
  {
   "cell_type": "code",
   "execution_count": null,
   "metadata": {
    "collapsed": false
   },
   "outputs": [],
   "source": [
    "print 'P =', precision(y_test, y_predicted)\n",
    "print 'R =', recall(y_test, y_predicted)\n",
    "print 'F =', FMeasure(y_test, y_predicted)\n",
    "print 'TPR =', truePositiveRate(y_test, y_predicted)\n",
    "print 'FPR =', falsePositiveRate(y_test, y_predicted)\n"
   ]
  },
  {
   "cell_type": "markdown",
   "metadata": {},
   "source": [
    "Неплохо для очень простой модели.\n",
    "Но можно лучше.\n",
    "Есть предложения?"
   ]
  },
  {
   "cell_type": "markdown",
   "metadata": {},
   "source": [
    "### Метод ближайших соседей\n",
    "\n",
    "А что, если взять не один ближайший объект а несколько?"
   ]
  },
  {
   "cell_type": "code",
   "execution_count": null,
   "metadata": {
    "collapsed": false
   },
   "outputs": [],
   "source": [
    "from sklearn.neighbors import KNeighborsClassifier\n",
    "\n",
    "knc_7 = KNeighborsClassifier(n_neighbors=7)\n",
    "knc_7.fit(X_train, y_train)\n",
    "y_predicted = knc_7.predict(X_test)\n",
    "print 'P =', precision(y_test, y_predicted)\n",
    "print 'R =', recall(y_test, y_predicted)\n",
    "print 'F =', FMeasure(y_test, y_predicted)\n",
    "print 'TPR =', truePositiveRate(y_test, y_predicted)\n",
    "print 'FPR =', falsePositiveRate(y_test, y_predicted)\n"
   ]
  },
  {
   "cell_type": "markdown",
   "metadata": {},
   "source": [
    "Уже лучше. \n",
    "Более того, теперь мы можем говорить с какой вероятностью объект принадлежит классу:"
   ]
  },
  {
   "cell_type": "code",
   "execution_count": null,
   "metadata": {
    "collapsed": false
   },
   "outputs": [],
   "source": [
    "y_proba = knc_7.predict_proba(X_test)\n",
    "y_proba[:10]"
   ]
  },
  {
   "cell_type": "markdown",
   "metadata": {},
   "source": [
    "В данном случае вероятности - это доля соседей \"проголосовавших\" за соответствующий класс\n",
    "\n",
    "Теперь, имея вероятностное представление того, что телефон дорогой, можно усложнить модель введя отсечение по этому значению.  "
   ]
  },
  {
   "cell_type": "code",
   "execution_count": null,
   "metadata": {
    "collapsed": false
   },
   "outputs": [],
   "source": [
    "y_predicted = (y_proba[:,1] >= 6./7).astype(int)\n",
    "y_predicted[:10]"
   ]
  },
  {
   "cell_type": "markdown",
   "metadata": {},
   "source": [
    "ВОПРОС: Как это скажется на метриках?\n",
    "\n",
    "ВОПРОС: Что произойдет в крайних случаях?"
   ]
  },
  {
   "cell_type": "code",
   "execution_count": null,
   "metadata": {
    "collapsed": false
   },
   "outputs": [],
   "source": [
    "print 'P =', precision(y_test, y_predicted)\n",
    "print 'R =', recall(y_test, y_predicted)\n",
    "print 'F =', FMeasure(y_test, y_predicted)\n",
    "print 'TPR =', truePositiveRate(y_test, y_predicted)\n",
    "print 'FPR =', falsePositiveRate(y_test, y_predicted)\n"
   ]
  },
  {
   "cell_type": "markdown",
   "metadata": {},
   "source": [
    "Давайте посмотрим, как ведут себя показатели $TPR$ и $FPR$ в зависимости от этого порога"
   ]
  },
  {
   "cell_type": "code",
   "execution_count": null,
   "metadata": {
    "collapsed": false
   },
   "outputs": [],
   "source": [
    "tpr = []\n",
    "fpr = []\n",
    "for i in xrange(8): #вопрос на понимание языка: Почему 8?\n",
    "    threshold = i / 7.\n",
    "    y_predicted = (y_proba[:,1] >= threshold).astype(int)\n",
    "    tpr.append(truePositiveRate(y_test, y_predicted))\n",
    "    fpr.append(falsePositiveRate(y_test, y_predicted))\n",
    "plt.plot(range(8), tpr)\n",
    "plt.plot(range(8), fpr)\n",
    "plt.legend(['truePositiveRate', 'FalsePostiveRate'])"
   ]
  },
  {
   "cell_type": "markdown",
   "metadata": {},
   "source": [
    " Давайте теперь изобразим $FPR$ по одной оси координат, а $TPR$ по другой.\n",
    " Полученная кривая называется $ROC$-кривой ($receiver operating characteristic$ - рабочая характеристика приёмника, термин пришедший из радио)."
   ]
  },
  {
   "cell_type": "code",
   "execution_count": null,
   "metadata": {
    "collapsed": false
   },
   "outputs": [],
   "source": [
    "plt.plot(fpr, tpr)\n",
    "plt.xlabel('FPR')\n",
    "plt.ylabel('TPR')"
   ]
  },
  {
   "cell_type": "markdown",
   "metadata": {},
   "source": [
    "Измеримую интерпретацию $ROC$-кривой дает метрика AUC (area under curve - площадь под кривой).\n",
    "Чем он выше, тем качественнее классификатор. \n",
    "Значение $AUC = 0.5$ говорит о непригодности модели, это равносильно случайному гаданию.\n",
    "\n",
    "ВОПРОС: о чем говорит значение $AUC < 0.5$?"
   ]
  },
  {
   "cell_type": "code",
   "execution_count": null,
   "metadata": {
    "collapsed": false
   },
   "outputs": [],
   "source": [
    "from sklearn import metrics\n",
    "print 'AUC =', metrics.roc_auc_score(y_test, y_proba[:,1])"
   ]
  },
  {
   "cell_type": "markdown",
   "metadata": {},
   "source": [
    "Как еще можно модифицировать метод ближайших соседей?"
   ]
  },
  {
   "cell_type": "markdown",
   "metadata": {
    "collapsed": true
   },
   "source": [
    "ОТВЕТ: "
   ]
  },
  {
   "cell_type": "markdown",
   "metadata": {},
   "source": [
    "### Другие подходы к классификации"
   ]
  },
  {
   "cell_type": "markdown",
   "metadata": {},
   "source": [
    "Можно ли выявить дорогой телефон, не обращаясь к прямому сравнению другими?\n",
    "\n",
    "Например, дорогой телефон будет иметь более мощный процессор, больше экран, разнообразнее функционал.\n",
    "Отвечая на эти вопросы получим некоторую древовидную структуру\n",
    "\n",
    "\n",
    "![](https://photos-3.dropbox.com/t/2/AADDUyO52w2UI3UwMrwiTANuAWjHsWbwNnRN14qDoYRfHg/12/85562713/png/32x32/1/_/1/2/Untitled%20Diagram.png/EMSCr8QFGAEgBygH/Dx-vsv--a1bQ2gq6NcSGsDqcVNnJy6w1dWfdKqJ4TTI?preserve_transparency=1&size=32x32&size_mode=5)\n",
    "\n",
    "Данный подход называется так и называется - decision tree"
   ]
  },
  {
   "cell_type": "code",
   "execution_count": null,
   "metadata": {
    "collapsed": true
   },
   "outputs": [],
   "source": [
    "from sklearn.tree import DecisionTreeClassifier"
   ]
  },
  {
   "cell_type": "code",
   "execution_count": null,
   "metadata": {
    "collapsed": false
   },
   "outputs": [],
   "source": [
    "dTree = DecisionTreeClassifier()\n",
    "dTree.fit(X_train, y_train)\n",
    "y_predicted = dTree.predict(X_test)\n",
    "y_proba = dTree.predict_proba(X_test)"
   ]
  },
  {
   "cell_type": "code",
   "execution_count": null,
   "metadata": {
    "collapsed": false
   },
   "outputs": [],
   "source": [
    "\n",
    "print 'P =', precision(y_test, y_predicted)\n",
    "print 'R =', recall(y_test, y_predicted)\n",
    "print 'F =', FMeasure(y_test, y_predicted)\n",
    "print 'TPR =', truePositiveRate(y_test, y_predicted)\n",
    "print 'FPR =', falsePositiveRate(y_test, y_predicted)\n",
    "print 'AUC =', metrics.roc_auc_score(y_test, y_proba[:,1])\n",
    "fpr, tpr, thresholds = metrics.roc_curve(y_test, y_proba[:,1])\n",
    "plt.plot(fpr, tpr)\n",
    "plt.xlabel('FPR')\n",
    "plt.ylabel('TPR')"
   ]
  },
  {
   "cell_type": "markdown",
   "metadata": {},
   "source": [
    "Для решающего дерева мы также можем выяснить важность критерия для принятия решения"
   ]
  },
  {
   "cell_type": "code",
   "execution_count": null,
   "metadata": {
    "collapsed": false
   },
   "outputs": [],
   "source": [
    "featureImportance = pd.DataFrame({\"feature\": data.columns[:-2], \"importance\": dTree.feature_importances_})\n",
    "featureImportance.sort([\"importance\"],ascending=False)"
   ]
  },
  {
   "cell_type": "markdown",
   "metadata": {},
   "source": [
    "Как видим, мощность процессора не сыграла роли, зато очень критичным оказался объем оперативной памяти.\n",
    "Так же можно заметить, что 3g, wifi, touchscreen и прочие функции, имеющиеся во всех смартфонах, не играют роли\n",
    "\n",
    "Много деревьев - это лес. Аналогично есть методы машинного обучения, использующие большое количество деревьеви зовутся они лесами\n"
   ]
  },
  {
   "cell_type": "code",
   "execution_count": null,
   "metadata": {
    "collapsed": false
   },
   "outputs": [],
   "source": [
    "from sklearn.ensemble import RandomForestClassifier"
   ]
  },
  {
   "cell_type": "code",
   "execution_count": null,
   "metadata": {
    "collapsed": false
   },
   "outputs": [],
   "source": [
    "rfc = RandomForestClassifier()\n",
    "rfc.fit(X_train, y_train)\n",
    "y_predicted = rfc.predict(X_test)\n",
    "y_proba = rfc.predict_proba(X_test)"
   ]
  },
  {
   "cell_type": "code",
   "execution_count": null,
   "metadata": {
    "collapsed": true
   },
   "outputs": [],
   "source": [
    "\n",
    "print 'P =', precision(y_test, y_predicted)\n",
    "print 'R =', recall(y_test, y_predicted)\n",
    "print 'F =', FMeasure(y_test, y_predicted)\n",
    "print 'TPR =', truePositiveRate(y_test, y_predicted)\n",
    "print 'FPR =', falsePositiveRate(y_test, y_predicted)\n",
    "print 'AUC =', metrics.roc_auc_score(y_test, y_proba[:,1])\n",
    "fpr, tpr, thresholds = metrics.roc_curve(y_test, y_proba[:,1])\n",
    "plt.plot(fpr, tpr)\n",
    "plt.xlabel('FPR')\n",
    "plt.ylabel('TPR')"
   ]
  },
  {
   "cell_type": "markdown",
   "metadata": {},
   "source": [
    "### Подбор гиперпараметров"
   ]
  },
  {
   "cell_type": "markdown",
   "metadata": {},
   "source": [
    "Давайте посмотрим, как меняется качество моделей, в зависимости от гиперпараметров: Числа деревьев в лесу и количества соседей в методе ближайших соседей.\n",
    "Начнем с метода kNN"
   ]
  },
  {
   "cell_type": "code",
   "execution_count": null,
   "metadata": {
    "collapsed": true
   },
   "outputs": [],
   "source": [
    "from collections import defaultdict"
   ]
  },
  {
   "cell_type": "code",
   "execution_count": null,
   "metadata": {
    "collapsed": false
   },
   "outputs": [],
   "source": [
    "n_neighbours = range(1,10)\n",
    "n_neighbours.extend(range(10,100, 5))\n",
    "n_neighbours.extend(range(100,251, 10))\n",
    "resultsKnn = defaultdict(list)\n",
    "for n in n_neighbours:\n",
    "    knc = KNeighborsClassifier(n_neighbors=n)\n",
    "    knc.fit(X_train, y_train)\n",
    "    \n",
    "    y_proba = knc.predict_proba(X_test)\n",
    "    y_predicted = knc.predict(X_test)\n",
    "    resultsKnn['AUC'].append(metrics.roc_auc_score(y_test, y_proba[:,1]))\n",
    "    resultsKnn['n'].append(n)\n",
    "    resultsKnn['P'].append(metrics.precision_score(y_test, y_predicted))\n",
    "    resultsKnn['R'].append(metrics.recall_score(y_test, y_predicted))\n",
    "    resultsKnn['F'].append(metrics.f1_score(y_test, y_predicted))\n",
    "    \n",
    "resultsKnn = pd.DataFrame(resultsKnn)\n",
    "resultsKnn[['n','AUC', 'P', 'R', 'F']]"
   ]
  },
  {
   "cell_type": "code",
   "execution_count": null,
   "metadata": {
    "collapsed": false,
    "scrolled": true
   },
   "outputs": [],
   "source": [
    "plt.plot(n_neighbours, resultsKnn.AUC)\n",
    "plt.plot(n_neighbours, resultsKnn.P)\n",
    "plt.plot(n_neighbours, resultsKnn.R)\n",
    "plt.plot(n_neighbours, resultsKnn.F)\n",
    "plt.legend(['AUC', 'P', 'R', 'F'])"
   ]
  },
  {
   "cell_type": "markdown",
   "metadata": {},
   "source": [
    "что же мы видим?\n",
    "С некоторого значения количества соседей качество моделей начинает падать.\n",
    "Данный эффект называется _переобучением_: модель избыточной сложности хорошо запоминает тестовую выборку, но на новых, неизвестных данных предсказательная способность падает\n",
    "\n",
    "Что же с лесами? Лес - это ансамбль очень простых моделей (как правило, используемые деревья очень неглубокие), поэтому по параметру число деревьев эта модель не склонна к переобучению"
   ]
  },
  {
   "cell_type": "code",
   "execution_count": null,
   "metadata": {
    "collapsed": false
   },
   "outputs": [],
   "source": [
    "n_trees = range(1,10)\n",
    "n_trees.extend(range(10,100, 5))\n",
    "n_trees.extend(range(100,251, 10))\n",
    "resultsForest = defaultdict(list)\n",
    "for n in n_trees:\n",
    "    rfc = RandomForestClassifier(n_estimators=n)\n",
    "    rfc.fit(X_train, y_train)\n",
    "    y_proba = rfc.predict_proba(X_test)\n",
    "    y_train_proba= rfc.predict_proba(X_train)\n",
    "    y_predicted = rfc.predict(X_test)\n",
    "    resultsForest['AUC'].append(metrics.roc_auc_score(y_test, y_proba[:,1]))\n",
    "    resultsForest['n'].append(n)\n",
    "    resultsForest['P'].append(metrics.precision_score(y_test, y_predicted))\n",
    "    resultsForest['R'].append(metrics.recall_score(y_test, y_predicted))\n",
    "    resultsForest['F'].append(metrics.f1_score(y_test, y_predicted))\n",
    "    \n",
    "resultsForest = pd.DataFrame(resultsForest)\n",
    "resultsForest[['n','AUC', 'P', 'R', 'F']]"
   ]
  },
  {
   "cell_type": "code",
   "execution_count": null,
   "metadata": {
    "collapsed": false
   },
   "outputs": [],
   "source": [
    "plt.plot(n_trees, resultsForest.AUC)\n",
    "plt.plot(n_trees, resultsForest.P)\n",
    "plt.plot(n_trees, resultsForest.R)\n",
    "plt.plot(n_trees, resultsForest.F)\n",
    "plt.legend(['AUC', 'P', 'R', 'F'])"
   ]
  },
  {
   "cell_type": "markdown",
   "metadata": {},
   "source": [
    "как же подбирать параметры?\n",
    "Для Этих целей используют _кросс-валидацию_.\n",
    "Данные разбиваются несколько раз на обучающую и тестовую выборку.\n",
    "Затем при переборе параметров идет оценка модели на каждой тестовой выборке, результаты агрегируются в одно число, по которому потом идет максимизация качества\n",
    "\n",
    "в пакете sklearn реализована кросс-валидация по решетке параметров"
   ]
  },
  {
   "cell_type": "code",
   "execution_count": null,
   "metadata": {
    "collapsed": false
   },
   "outputs": [],
   "source": [
    "from sklearn.model_selection import GridSearchCV"
   ]
  },
  {
   "cell_type": "code",
   "execution_count": null,
   "metadata": {
    "collapsed": false
   },
   "outputs": [],
   "source": [
    "parameters = {'n_neighbors':range(3, 11, 2), 'weights':['uniform', 'distance']}\n",
    "knc = KNeighborsClassifier()\n",
    "clf = GridSearchCV(knc, parameters)\n",
    "clf.fit(X_train, y_train)\n",
    "clf.best_estimator_"
   ]
  },
  {
   "cell_type": "markdown",
   "metadata": {},
   "source": [
    "ИНДИВИДУАЛЬНОЕ ЗАДАНИЕ: \n",
    "\n",
    "найдите параметры метода ближайших соседей и метода случайного леса, оптимизирующие разные метрики.\n",
    "\n",
    "\n",
    "см: http://scikit-learn.org/stable/modules/model_evaluation.html#scoring"
   ]
  },
  {
   "cell_type": "markdown",
   "metadata": {},
   "source": []
  }
 ],
 "metadata": {
  "kernelspec": {
   "display_name": "Python 2",
   "language": "python",
   "name": "python2"
  },
  "language_info": {
   "codemirror_mode": {
    "name": "ipython",
    "version": 2
   },
   "file_extension": ".py",
   "mimetype": "text/x-python",
   "name": "python",
   "nbconvert_exporter": "python",
   "pygments_lexer": "ipython2",
   "version": "2.7.11"
  }
 },
 "nbformat": 4,
 "nbformat_minor": 0
}

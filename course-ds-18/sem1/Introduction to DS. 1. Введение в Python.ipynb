{
 "cells": [
  {
   "cell_type": "markdown",
   "metadata": {},
   "source": [
    "# 0. Где мы сейчас?\n",
    "Jupyter Notebook - интерактивная среда для запуска программного кода в браузере. Удобный инструмент для анализа данных, который используется многими специалистами по data science."
   ]
  },
  {
   "cell_type": "markdown",
   "metadata": {},
   "source": [
    "<center>\n",
    "<img src=\"https://media.giphy.com/media/5Zesu5VPNGJlm/giphy.gif\" height=\"400\" width=\"400\">"
   ]
  },
  {
   "cell_type": "markdown",
   "metadata": {},
   "source": [
    "# 1. Python\n",
    "Python - это свободный интерпретируемый объектно-ориентированный расширяемый встраиваемый язык программирования очень высокого уровня (Г.Россум, Ф.Л.Дж.Дрейк, Д.С.Откидач \"Язык программирования Python\")."
   ]
  },
  {
   "cell_type": "markdown",
   "metadata": {},
   "source": [
    "<center>\n",
    "<img src=\"https://i05.fotocdn.net/s28/247/public_pin_l/328/2674477046.jpg\" height=\"400\" width=\"400\">"
   ]
  },
  {
   "cell_type": "markdown",
   "metadata": {},
   "source": [
    "# 2. Anaconda\n",
    "Сборка Anaconda включает очень много полезных библиотек для анализа данных. \n",
    "\n",
    "Среди наиболее популярных библиотек:\n",
    " - <a href=\"http://numpy.org\">Numpy</a> - это один из основных пакетов для научных вычислений. Он содержит функциональные средства для работы с многомерными массивами и высокоуровневыми математическими функциями.\n",
    " - <a href=\"http://numpy.org\">SciPy</a> - научные вычисления. Методы оптимизации, интегрирования, модули обработки сигналов и изображений, статистика, линейная алгебра, сплайны, кластеризация и многое другое. \n",
    " -  <a href=\"http://pandas.pydata.org/\">Pandas</a> - библиотека для обработки и анализа данных. Предназначена для данных разной природы - матричных, панельных данных, временных рядов. Претендует на звание самого мощного и гибкого средства для анализа данных с открытым исходным кодом.\n",
    " - <a href=\"http://scikit-learn.org/stable/\">Scikit-learn</a> - реализация очень многих методов машинного обучения и интеллекуального анализа данных (data mining) с отличной документацией. \n",
    " - <a href=\"http://http://matplotlib.org/\">matplotlib</a> - библиотека для визаулизации данных, в основном двухмерная графика."
   ]
  },
  {
   "cell_type": "markdown",
   "metadata": {},
   "source": [
    "# 3. Знакомство с Python"
   ]
  },
  {
   "cell_type": "markdown",
   "metadata": {},
   "source": [
    "## print()\n",
    "Изучение любого языка программирования начинается с написания маленькой программы: вывода на экран строчки \"Hello, world\". \n",
    "Печать/вывод на экран в питоне осуществляется функцией print(), ее полный синтаксис:\n",
    "\n",
    "print(*objects, sep=' ', end='\\n', file=sys.stdout, flush=False)¶\n",
    "- objects: один или несколько объектов для вывода, перечисленные через запятую\n",
    "- sep: разделитель между несколькими объектами; стандартно установлен пробел\n",
    "- end: окончание строки; стандартно установлен перевод на новую строчку '\\n'\n",
    "\n",
    "Текст записывается либо в одинарных, либо в двойных кавычках. "
   ]
  },
  {
   "cell_type": "code",
   "execution_count": 4,
   "metadata": {},
   "outputs": [
    {
     "name": "stdout",
     "output_type": "stream",
     "text": [
      "Hello, world\n"
     ]
    }
   ],
   "source": [
    "#1 объект\n",
    "print('Hello, world')"
   ]
  },
  {
   "cell_type": "code",
   "execution_count": 5,
   "metadata": {},
   "outputs": [
    {
     "name": "stdout",
     "output_type": "stream",
     "text": [
      "Hello, world\n"
     ]
    }
   ],
   "source": [
    "#4 объекта, между ними задаем отсутствие пространства\n",
    "print('Hello', ',', ' ','world', sep ='')"
   ]
  },
  {
   "cell_type": "markdown",
   "metadata": {},
   "source": [
    "В питоне очень удобно устроена **конкатенация** (объединение строк) -  достаточно сложить нужные строчки с помощью знака **+**"
   ]
  },
  {
   "cell_type": "code",
   "execution_count": null,
   "metadata": {
    "scrolled": true
   },
   "outputs": [],
   "source": [
    "#Сцепили четыре слова в одну строчку:\n",
    "print('Hello' + ',' + ' ' + 'world')"
   ]
  },
  {
   "cell_type": "markdown",
   "metadata": {},
   "source": [
    "## input()\n",
    "Данные можно не только выводить, но и, конечно, вводить. \n",
    "Вывод осуществляется функцией input():\n",
    "- input([prompt])\n",
    "\n",
    "Обязательных аргументов нет. Можно передавать строчку, которая будет выведена перед ячейкой ввода. "
   ]
  },
  {
   "cell_type": "code",
   "execution_count": 6,
   "metadata": {},
   "outputs": [
    {
     "name": "stdout",
     "output_type": "stream",
     "text": [
      "апрель\n",
      "Сейчас апрель месяц.\n"
     ]
    }
   ],
   "source": [
    "month = input()\n",
    "print('Сейчас', month, 'месяц.')"
   ]
  },
  {
   "cell_type": "code",
   "execution_count": 7,
   "metadata": {},
   "outputs": [
    {
     "name": "stdout",
     "output_type": "stream",
     "text": [
      "Введите текущий месяц: апрель\n",
      "Сейчас апрель месяц.\n"
     ]
    }
   ],
   "source": [
    "month = input('Введите текущий месяц: ')\n",
    "print('Сейчас', month, 'месяц.')"
   ]
  },
  {
   "cell_type": "markdown",
   "metadata": {},
   "source": [
    "## Задача 1\n",
    "Напишите программу, которая приветствует пользователя, выводя слово Hello, введенное имя и знаки препинания.\n",
    "Обратите внимание, что после запятой должен обязательно стоять пробел, а перед восклицательным знаком пробела нет. Операцией конкатенации строк (+) пользоваться нельзя.\n",
    "\n",
    "**Образец**\n",
    "\n",
    "Входные данные:\n",
    "Harry\n",
    "\n",
    "Вывод программы:\n",
    "Hello, Harry!"
   ]
  },
  {
   "cell_type": "code",
   "execution_count": 2,
   "metadata": {},
   "outputs": [
    {
     "name": "stdout",
     "output_type": "stream",
     "text": [
      "Maxim\n",
      "Hello, Maxim!\n"
     ]
    }
   ],
   "source": [
    "name = input ()\n",
    "print('Hello, ', name, '!', sep ='')"
   ]
  },
  {
   "cell_type": "markdown",
   "metadata": {},
   "source": [
    "## Арифметические операции\n",
    "\n",
    "- Сложение: +\n",
    "- Вычитание: -\n",
    "- Умножение: *\n",
    "- Деление: /\n",
    "- Целочисленное деление: //\n",
    "- Остаток от деления: %"
   ]
  },
  {
   "cell_type": "code",
   "execution_count": 3,
   "metadata": {},
   "outputs": [
    {
     "name": "stdout",
     "output_type": "stream",
     "text": [
      "Работаем с числами 5 и 2\n",
      "Результат сложения: 7\n",
      "Результат вычитания: 3\n",
      "Результат умножения: 10\n",
      "Результат деления: 2.5\n",
      "Результат целочисленного деления: 2\n",
      "Результат остатка от деления: 1\n",
      "Результат возведения в степени: 25\n"
     ]
    }
   ],
   "source": [
    "print('Работаем с числами', 5, 'и', 2)\n",
    "print('Результат сложения:', 5 + 2)\n",
    "print('Результат вычитания:', 5 - 2)\n",
    "print('Результат умножения:', 5*2)\n",
    "print('Результат деления:', 5 / 2)\n",
    "print('Результат целочисленного деления:', 5 // 2)\n",
    "print('Результат остатка от деления:', 5 % 2)\n",
    "print('Результат возведения в степени:', 5**2)"
   ]
  },
  {
   "cell_type": "markdown",
   "metadata": {},
   "source": [
    "## Переменные и основные типы данных"
   ]
  },
  {
   "cell_type": "markdown",
   "metadata": {},
   "source": [
    "### Переменные\n",
    "Переменная - это объект, которому дали имя. <br />\n",
    "Например: <br />\n",
    "\n",
    "number = 2 <br />\n",
    "\n",
    "Задали числовой объект, назвали его number, и этой переменной присвоили значение 2. <br />\n",
    "Заранее инициализировать тип переменной не нужно, питон делает автоматически!\n",
    "\n",
    "### Основные типы данных\n",
    "Какие есть часто используемые встроенные типы данных?\n",
    " - Числа: 564, 3.14,\n",
    " - Строки:'lion', \"your's\", 'привет'\n",
    " - Списки: [1, [2, 'apple'], 4.5]\n",
    " - Словари: {'Apple': 2, 'Car': 4}\n",
    " - Кортежи: ('tool', 21.7, 'bike')\n",
    " - Множества: set(1,2,3), {'a', 'b', 'c'}\n"
   ]
  },
  {
   "cell_type": "markdown",
   "metadata": {},
   "source": [
    "Функция input() записывает ввведенную строчку в переменную типа string. Чтобы проверить, можно использовать функцию type()"
   ]
  },
  {
   "cell_type": "code",
   "execution_count": 1,
   "metadata": {},
   "outputs": [
    {
     "name": "stdout",
     "output_type": "stream",
     "text": [
      "Введите ваше имя: Vfrcb\n"
     ]
    },
    {
     "data": {
      "text/plain": [
       "str"
      ]
     },
     "execution_count": 1,
     "metadata": {},
     "output_type": "execute_result"
    }
   ],
   "source": [
    "name = input('Введите ваше имя: ')\n",
    "type(name)"
   ]
  },
  {
   "cell_type": "markdown",
   "metadata": {},
   "source": [
    "### Игры с типами переменных\n",
    "Как быть, если нам нужно ввести число и использовать эту переменную как числовую? <br />\n",
    "Воспользуемся функцией int(object), она превращает передаваемый объект в целочисленную переменную "
   ]
  },
  {
   "cell_type": "code",
   "execution_count": 8,
   "metadata": {},
   "outputs": [
    {
     "name": "stdout",
     "output_type": "stream",
     "text": [
      "555\n",
      "<class 'int'>\n",
      "Квадрат введенного числа: 308025\n"
     ]
    }
   ],
   "source": [
    "number = int(input())\n",
    "print(type(number))\n",
    "print('Квадрат введенного числа:', number ** 2)"
   ]
  },
  {
   "cell_type": "markdown",
   "metadata": {},
   "source": [
    "А если бы мы хотели вывести результирующую строчку в виде одной текстовой строки?\n",
    "Конкатенировать текст и число мы не можем; только текст с текстом. \n",
    "Поэтому с помощью функции str(object) преобразуем число в текст и выведем на печать. "
   ]
  },
  {
   "cell_type": "code",
   "execution_count": 9,
   "metadata": {},
   "outputs": [
    {
     "name": "stdout",
     "output_type": "stream",
     "text": [
      "5\n",
      "Квадрат введенного числа 25\n",
      "<class 'str'>\n"
     ]
    }
   ],
   "source": [
    "number = int(input())\n",
    "square = number ** 2\n",
    "#print('Квадрат введенного числа' + square)\n",
    "result = 'Квадрат введенного числа' + ' ' + str(square)\n",
    "print(result)\n",
    "print(type(result))"
   ]
  },
  {
   "cell_type": "code",
   "execution_count": 25,
   "metadata": {},
   "outputs": [
    {
     "name": "stdout",
     "output_type": "stream",
     "text": [
      "5\n",
      "Квадрат введенного числа 25\n"
     ]
    }
   ],
   "source": [
    "number = int(input())\n",
    "square = number ** 2\n",
    "print('Квадрат введенного числа' + ' ' + str(square))"
   ]
  },
  {
   "cell_type": "markdown",
   "metadata": {},
   "source": [
    "В случае вещественного числа используем функцию float()"
   ]
  },
  {
   "cell_type": "code",
   "execution_count": 10,
   "metadata": {},
   "outputs": [
    {
     "name": "stdout",
     "output_type": "stream",
     "text": [
      "5\n",
      "Квадрат введенного числа 25.0\n"
     ]
    }
   ],
   "source": [
    "number = float(input())\n",
    "square = number ** 2\n",
    "result = 'Квадрат введенного числа' + ' ' + str(square)\n",
    "print(result)"
   ]
  },
  {
   "cell_type": "markdown",
   "metadata": {},
   "source": [
    "## Задача 2\n",
    "N школьников делят K яблок поровну, не делящийся остаток остается в корзинке. <br />\n",
    "1) Сколько яблок достанется каждому школьнику?<br />\n",
    "2) Сколько яблок останется в корзинке?\n",
    "\n",
    "**Образец**\n",
    "\n",
    "Входные данные:<br />\n",
    "3<br />\n",
    "14<br />\n",
    "\n",
    "Вывод программы:\n",
    "Каждому школьнику достанется 4 <br />\n",
    "В корзине останется 2"
   ]
  },
  {
   "cell_type": "code",
   "execution_count": 15,
   "metadata": {},
   "outputs": [
    {
     "name": "stdout",
     "output_type": "stream",
     "text": [
      "4\n",
      "5\n",
      "Каждому школьнику достанется 1\n",
      "В корзине останется 1\n"
     ]
    }
   ],
   "source": [
    "n = int(input())\n",
    "k = int(input())\n",
    "print('Каждому школьнику достанется', k // n)\n",
    "print('В корзине останется', k % n)"
   ]
  },
  {
   "cell_type": "markdown",
   "metadata": {},
   "source": [
    "### Логический тип данных\n",
    "Также известны как булевый тип данных, принимают значения True (Истина) или False (Ложь). Это подтип int, задается в виде bool()\n",
    "\n",
    "#### Логические выражения\n",
    "\n",
    "По аналогии с арифметическими выражениями существуют логические выражения, которые могут быть истинными или ложными. Простое логическое выражение имеет вид <br /> \n",
    "\n",
    "<арифметическое выражение> <знак сравнения> <арифметическое выражение>. <br /> \n",
    "\n",
    "Например, если у нас есть переменные x и y с какими-то значениями, то логическое выражение <br /> x + y < 3y <br /> в качестве первого арифметического выражения имеет x + y, в качестве знака сравнения < (меньше), а второе арифметическое выражение в нём 3y.\n",
    "\n",
    "<center> \n",
    "    <table>\n",
    "        <tr>\n",
    "            <th>Логическое выражение </th>\n",
    "            <th> Значение </th>\n",
    "        </tr> \n",
    "        <tr><td>&lt;</td><td> Меньше</td></tr>\n",
    "        <tr><td>&gt;</td><td> Больше</td></tr>\n",
    "        <tr><td>&lt;=</td><td> Меньше или равно</td></tr>\n",
    "        <tr><td>&gt;=</td><td> Больше или равно</td></tr>\n",
    "        <tr><td>==</td><td> Равно </td></tr>\n",
    "        <tr><td>!=</td><td> Не равно</td></tr>\n",
    "    </table>\n",
    "</center>"
   ]
  },
  {
   "cell_type": "code",
   "execution_count": null,
   "metadata": {},
   "outputs": [],
   "source": [
    "x = int(bool(1 > 2))\n",
    "print(x)\n",
    "print(1 > 2)"
   ]
  },
  {
   "cell_type": "markdown",
   "metadata": {},
   "source": [
    "Чтобы записать сложное логическое выражение, часто бывает необходимо воспользоваться логическими связками \"и\", \"или\" и \"не\". В Питоне они обозначаются как and, or и not соответственно. Операции and и or являеются бинарными, т.е. должны быть записаны между операндами, например x < 3 or y > 2. Операция not - унарная и должна быть записана перед единственным своим операндом."
   ]
  },
  {
   "cell_type": "code",
   "execution_count": 11,
   "metadata": {},
   "outputs": [
    {
     "name": "stdout",
     "output_type": "stream",
     "text": [
      "1\n",
      "2\n",
      "3\n",
      "False\n",
      "True\n"
     ]
    }
   ],
   "source": [
    "x = int(input())\n",
    "y = int(input())\n",
    "z = int(input())\n",
    "print(x > y and y < z)\n",
    "print(not(x > y))"
   ]
  },
  {
   "cell_type": "markdown",
   "metadata": {},
   "source": [
    "## Условный оператор\n",
    "Наиболее частое применение логические выражения находят в условных операторах.\n",
    "<img src=\"http://itandlife.ru/wp-content/uploads/2012/02/%D0%A1%D1%82%D1%80%D1%83%D0%BA%D1%82%D1%83%D1%80%D0%BD%D0%B0%D1%8F-%D1%81%D1%85%D0%B5%D0%BC%D0%B0-%D1%83%D1%81%D0%BB%D0%BE%D0%B2%D0%BD%D0%BE%D0%B3%D0%BE-%D0%BE%D0%BF%D0%B5%D1%80%D0%B0%D1%82%D0%BE%D1%80%D0%B0.jpg\">\n",
    "\n",
    "Синтаксис в питоне: <br />\n",
    "**if** условие1:<br />\n",
    "&emsp; команды<br />\n",
    "**elif** условие2:<br />\n",
    "&emsp; команды<br />\n",
    "**elif** условие3:<br />\n",
    "&emsp; команды<br />\n",
    "**else**: <br />\n",
    "&emsp; команды<br />\n",
    "\n",
    "Все команды пишутся с отступом. \n"
   ]
  },
  {
   "cell_type": "code",
   "execution_count": 13,
   "metadata": {},
   "outputs": [
    {
     "name": "stdout",
     "output_type": "stream",
     "text": [
      "3\n",
      "5\n",
      " \n",
      "Y не меньше, чем X\n"
     ]
    }
   ],
   "source": [
    "x = int(input())\n",
    "y = int(input())\n",
    "if x > y:\n",
    "    print('X больше Y')\n",
    "    print(x - y)\n",
    "else:\n",
    "    print(' ')\n",
    "print('Y не меньше, чем X')"
   ]
  },
  {
   "cell_type": "code",
   "execution_count": null,
   "metadata": {},
   "outputs": [],
   "source": [
    "x = int(input())\n",
    "y = int(input())\n",
    "if x > y:\n",
    "    print('X больше Y')\n",
    "    print(x - y)\n",
    "elif y > x:\n",
    "    print('Y больше X')\n",
    "    print(y - x)\n",
    "else:\n",
    "    print('X равно Y')"
   ]
  },
  {
   "cell_type": "markdown",
   "metadata": {},
   "source": [
    "#### Задача 3"
   ]
  },
  {
   "cell_type": "markdown",
   "metadata": {},
   "source": [
    "Дано натуральное число. Требуется определить, является ли год с данным номером високосным. Если год является високосным, то выведите YES, иначе выведите NO. Напомним, что в соответствии с григорианским календарем, год является високосным, если его номер кратен 4, но не кратен 100, а также если он кратен 400.\n",
    "\n",
    "**Образец**\n",
    "\n",
    "Входные данные:<br />\n",
    "4<br />\n",
    "\n",
    "Вывод программы: <br />\n",
    "YES"
   ]
  },
  {
   "cell_type": "code",
   "execution_count": 3,
   "metadata": {},
   "outputs": [
    {
     "name": "stdout",
     "output_type": "stream",
     "text": [
      "2016\n",
      "NO\n"
     ]
    }
   ],
   "source": [
    "n = int(input())\n",
    "if ((n % 4 == 0 and n % 100 != 0) or (n % 400 == 0)):\n",
    "    print('YES')\n",
    "else:\n",
    "    print('NO')"
   ]
  },
  {
   "cell_type": "markdown",
   "metadata": {},
   "source": [
    "## Цикл while\n",
    "\n",
    "While переводится как \"пока\" и позволяет выполнять команды, до тех пор, пока условие верно. После окончания выполнения блока команд, относящихся к while, управление возвращается на строку с условием и, если оно выполнено, то выполнение блока команд повторяется, а если не выполнено, то продолжается выполнение команд, записанных после while.\n",
    "\n",
    "Важно случайно не сделать бесконечный цикл!\n",
    "\n",
    "**while** условие1:<br />\n",
    "&emsp; команды<br />\n",
    "\n",
    "Все команды пишутся с отступом. \n"
   ]
  },
  {
   "cell_type": "code",
   "execution_count": 12,
   "metadata": {},
   "outputs": [
    {
     "name": "stdout",
     "output_type": "stream",
     "text": [
      "3\n",
      "4\n",
      "0\n",
      "Сумма последовательности:  7\n"
     ]
    }
   ],
   "source": [
    "k = int(input())\n",
    "s = k\n",
    "while k != 0:\n",
    "    k = int(input())\n",
    "    s = s + k\n",
    "print('Сумма последовательности: ', s)"
   ]
  },
  {
   "cell_type": "markdown",
   "metadata": {},
   "source": [
    "### Задача 4\n",
    "\n",
    "По данному целому числу N распечатайте квадраты всех чисел, предшествующих N (включая N), в порядке убывания\n",
    "\n",
    "**Образец**\n",
    "\n",
    "Входные данные: <br />\n",
    "3\n",
    "\n",
    "Вывод программы: <br />\n",
    "9<br />\n",
    "4<br />\n",
    "2 (мы же с целыми числами работаем, что надо в квадрат возвести, чтобы получить 2?)<br />\n",
    "1<br />"
   ]
  },
  {
   "cell_type": "code",
   "execution_count": 39,
   "metadata": {},
   "outputs": [
    {
     "name": "stdout",
     "output_type": "stream",
     "text": [
      "8\n",
      "64\n",
      "49\n",
      "36\n",
      "25\n",
      "16\n",
      "9\n",
      "4\n",
      "1\n"
     ]
    }
   ],
   "source": [
    "n = int(input())\n",
    "while n:\n",
    "    print (n*n)\n",
    "    n -= 1"
   ]
  },
  {
   "cell_type": "markdown",
   "metadata": {},
   "source": [
    "## Функция range(n)\n",
    "Создается объект класса range, внутри которого содержится арифметическая прогрессия в заданных диапазонах и с определенным шагом\n",
    "\n",
    "Ее синтаксис:\n",
    "- range(start, stop[, step])"
   ]
  },
  {
   "cell_type": "code",
   "execution_count": 4,
   "metadata": {},
   "outputs": [
    {
     "name": "stdout",
     "output_type": "stream",
     "text": [
      "range(0, 5)\n",
      "[0, 1, 2, 3, 4]\n",
      "[2, 3, 4, 5]\n",
      "[2, 4]\n"
     ]
    }
   ],
   "source": [
    "print(range(5))\n",
    "print(list(range(5)))\n",
    "print(list(range(2, 6)))\n",
    "print(list(range(2, 6, 2)))"
   ]
  },
  {
   "cell_type": "markdown",
   "metadata": {},
   "source": [
    "# Цикл for\n",
    "Цикл for позволяет поочередно перебрать элементы из чего-нибудь итерируемого.\n",
    "\n",
    "Ее синтаксис: <br />\n",
    "**for** i **in** диапазон_изменений_i:<br />\n",
    "&emsp; команды\n",
    "\n",
    "Все команды пишутся с отступом. \n"
   ]
  },
  {
   "cell_type": "code",
   "execution_count": 2,
   "metadata": {},
   "outputs": [
    {
     "name": "stdout",
     "output_type": "stream",
     "text": [
      "3\n",
      "1\n",
      "4\n",
      "9\n"
     ]
    }
   ],
   "source": [
    "n = int(input())\n",
    "for i in range(1, n + 1):\n",
    "    print(i**2)"
   ]
  },
  {
   "cell_type": "markdown",
   "metadata": {},
   "source": [
    "Перебирать в цикле for можно не только числа"
   ]
  },
  {
   "cell_type": "code",
   "execution_count": null,
   "metadata": {},
   "outputs": [],
   "source": [
    "for color in ['red', 'green', 'yellow']:\n",
    "    print(color, 'apple')"
   ]
  },
  {
   "cell_type": "markdown",
   "metadata": {},
   "source": [
    "## Задача 5\n",
    "Даны два целых числа A и B (при этом A≤B). Выведите все числа от A до B включительно.\n",
    "Обратите внимание, что вывод осуществляется в одну строчку\n",
    "\n",
    "**Образец**\n",
    "\n",
    "Входные данные:<br />\n",
    "1<br />\n",
    "10\n",
    "\n",
    "Вывод программы: <br />\n",
    "1 2 3 4 5 6 7 8 9 10"
   ]
  },
  {
   "cell_type": "code",
   "execution_count": 12,
   "metadata": {},
   "outputs": [
    {
     "name": "stdout",
     "output_type": "stream",
     "text": [
      "1\n",
      "10\n",
      "[1, 2, 3, 4, 5, 6, 7, 8, 9, 10]\n"
     ]
    }
   ],
   "source": [
    "A = int(input())\n",
    "B = int(input())\n",
    "if A <= B:\n",
    "    print(list(range(A, B + 1)))\n",
    "else:\n",
    "    print('Число A больше B')"
   ]
  },
  {
   "cell_type": "markdown",
   "metadata": {},
   "source": [
    "## Списки\n",
    "Список состоит из элементов, разделенных запятыми, находящихся между квадратными скобками ( [ ] ). \n",
    "<br /> В списке могут быть объекты любого типа"
   ]
  },
  {
   "cell_type": "code",
   "execution_count": 14,
   "metadata": {},
   "outputs": [
    {
     "name": "stdout",
     "output_type": "stream",
     "text": [
      "<class 'list'>\n",
      "[1, 2, 3, 'wednesday']\n"
     ]
    }
   ],
   "source": [
    "mylist = [1, 2, 3, 'wednesday']\n",
    "print(type(mylist))\n",
    "print(mylist)"
   ]
  },
  {
   "cell_type": "markdown",
   "metadata": {},
   "source": [
    "Методы\n",
    "- list.append(x)\tДобавляет элемент в конец списка\n",
    "- list.extend(L)\tРасширяет список list, добавляя в конец все элементы списка L\n",
    "- list.insert(i, x)\tВставляет на i-ый элемент значение x\n",
    "- list.remove(x)\tУдаляет первый элемент в списке, имеющий значение x. ValueError, если такого элемента не существует\n",
    "- list.pop([i])\tУдаляет i-ый элемент и возвращает его. Если индекс не указан, удаляется последний элемент\n",
    "- list.index(x, [start [, end]])\tВозвращает положение первого элемента со значением x (при этом поиск ведется от start до end)\n",
    "- list.count(x)\tВозвращает количество элементов со значением x\n",
    "- list.sort([key=функция])\tСортирует список на основе функции\n",
    "- list.reverse()\tРазворачивает список\n",
    "- list.copy()\tПоверхностная копия списка\n",
    "- list.clear()\tОчищает список"
   ]
  },
  {
   "cell_type": "code",
   "execution_count": null,
   "metadata": {},
   "outputs": [],
   "source": [
    "# пустой лист\n",
    "newlist = []\n",
    "newlist.append(-2)\n",
    "print(newlist)\n",
    "newlist.extend(mylist)\n",
    "print(newlist)\n",
    "newlist.remove('wednesday')\n",
    "print(newlist)\n",
    "newlist.sort()\n",
    "print(newlist)"
   ]
  },
  {
   "cell_type": "markdown",
   "metadata": {},
   "source": [
    "## Задача 6\n",
    "Дано натуральное число (вводится с клавиатуры). \n",
    "Создайте список с квадратами всех предшествующих натуральных чисел, включая введенное число. \n",
    "\n",
    "**Образец**\n",
    "\n",
    "Входные данные:<br />\n",
    "10 <br />\n",
    "\n",
    "Вывод программы: <br />\n",
    "[1, 4, 9, 16, 25, 36, 49, 64, 81, 100]"
   ]
  },
  {
   "cell_type": "code",
   "execution_count": null,
   "metadata": {},
   "outputs": [],
   "source": [
    "ar = [16, 4, 1]\n",
    "ar[::-1]"
   ]
  },
  {
   "cell_type": "markdown",
   "metadata": {},
   "source": [
    "## Написание функций\n",
    "Если какие-то операции надо повторять из раза в раз и нет готовых функций, то можно создать свою. \n",
    "\n",
    "Синтаксис: <br /> \n",
    "**def** название функции(список аргументов):<br /> \n",
    "&emsp; команды<br /> \n",
    "&emsp; **return** результат выполнения функции<br /> \n",
    "\n",
    "Все команды пишутся с отступом. \n",
    "\n",
    "Функция должна быть записана в любом месте до ее первого вызова."
   ]
  },
  {
   "cell_type": "code",
   "execution_count": null,
   "metadata": {},
   "outputs": [],
   "source": [
    "def power(number, p):\n",
    "    result = number p\n",
    "    return result\n",
    "\n",
    "number = int(input())\n",
    "p = int(input())\n",
    "print(power(number, p))"
   ]
  },
  {
   "cell_type": "markdown",
   "metadata": {},
   "source": [
    "## Задача 7\n",
    "Напишите функцию, которая считает площадь треугольника по трем сторонам. Стороны вводятся вне функции. <br /> \n",
    "Подсказка: используйте формулу Герона\n",
    "$$ S = \\sqrt{p(p-a)(p-b)(p-c)} $$\n",
    "$$ p = \\frac{a + b + c}{2}$$\n",
    "**Образец**\n",
    "\n",
    "Входные данные:<br />\n",
    "3\n",
    "4\n",
    "5\n",
    "\n",
    "Вывод программы: <br />\n",
    "6"
   ]
  },
  {
   "cell_type": "markdown",
   "metadata": {},
   "source": [
    "## Библиотека Pandas\n",
    " -  <a href=\"http://pandas.pydata.org/\">Pandas</a> - библиотека для обработки и анализа данных. Предназначена для данных разной природы - матричных, панельных данных, временных рядов. Претендует на звание самого мощного и гибкого средства для анализа данных с открытым исходным кодом.\n",
    " \n",
    "Загрузка любой библиотеки выглядит следующим образом: <br /> \n",
    "**import** название [**as** псевдоним]\n",
    "\n",
    "Обычно список импортируемых библиотек задается в самом начале ноутбука"
   ]
  },
  {
   "cell_type": "code",
   "execution_count": null,
   "metadata": {},
   "outputs": [],
   "source": [
    "import pandas as pd\n",
    "#загрузили библиотеку и задали ее псевдоним, по которому далее к ней будем обращаться: pd"
   ]
  },
  {
   "cell_type": "markdown",
   "metadata": {},
   "source": [
    "### Классы в Pandas"
   ]
  },
  {
   "cell_type": "markdown",
   "metadata": {},
   "source": [
    "В пандас есть два типа структур данных:\n",
    "- Series: одномерный массив с именованными индексами (чаще всего, данные одного типа)\n",
    "- DataFrame: двухмерный массив, имеет табличную структуру, легко изменяется по размерам, может содержать в себе данные разных типов\n",
    "\n",
    "Оба типа можно создавать вручную с помощью функций из самой библиотеки:\n",
    "- pandas.Series(data=None, index=None, dtype=None)\n",
    "- pandas.DataFrame(data=None, index=None, columns=None, dtype=None)\n",
    "\n",
    "- **data** - данные, которые надо записать в структуру\n",
    "- **index** - индексы строк\n",
    "- **columns** - названия столбцов\n",
    "- **dtype** - тип данных\n",
    "\n",
    "Кроме data, остальные параметры опциональны"
   ]
  },
  {
   "cell_type": "code",
   "execution_count": null,
   "metadata": {},
   "outputs": [],
   "source": [
    "pd.Series([1, 2, 3, 5, 8, 13.5, 'asd', pd.datetime(2018, 1, 13)])"
   ]
  },
  {
   "cell_type": "code",
   "execution_count": null,
   "metadata": {},
   "outputs": [],
   "source": [
    "#можно задать словарь\n",
    "d = dict({\n",
    "    'City': ['MSK', 'SPB', 'NN', 'SPB'],\n",
    "    'Temperature': [-3, +2, -3, +2],\n",
    "    'State': ['Cloudy', 'Clear', 'Snow', 'Clear'],\n",
    "    'Date':[pd.datetime(2017, 1, 16), pd.datetime(2017, 1, 13), pd.datetime(2017, 3, 13), pd.datetime(2017, 1, 1)]\n",
    "})\n",
    "\n",
    "pd.DataFrame(d)"
   ]
  },
  {
   "cell_type": "code",
   "execution_count": null,
   "metadata": {
    "scrolled": true
   },
   "outputs": [],
   "source": [
    "#можно задать список\n",
    "weather = pd.DataFrame([['MSK', 'SPB', 'NN', 'SPB'],[-3, +2, -3, +2],\n",
    "                        ['Cloudy', 'Clear', 'Snow', 'Clear'],\n",
    "                        [pd.datetime(2017, 1, 16), pd.datetime(2017, 1, 13), pd.datetime(2017, 3, 13), pd.datetime(2017, 1, 1)]], \n",
    "                       index = ['City', 'Temperature', 'State', 'Date'])\n",
    "weather"
   ]
  },
  {
   "cell_type": "code",
   "execution_count": null,
   "metadata": {},
   "outputs": [],
   "source": [
    "#траспонируем таблицу, чтобы получить в интересующем нас виде\n",
    "weather = weather.transpose()\n",
    "weather"
   ]
  },
  {
   "cell_type": "markdown",
   "metadata": {},
   "source": [
    "В библиотеке есть:\n",
    "\n",
    "- **функции**: маленькие программы, выполняющие серию команд\n",
    "- **методы**: функции, присущие исключительно объекту класса\n",
    "\n",
    "weath - это объект класса DataFrame <br />\n",
    "transpose() - это метод класса DataFrame, примененный к объекту weather <br />"
   ]
  },
  {
   "cell_type": "markdown",
   "metadata": {},
   "source": [
    "### Загрузка и запись данных\n",
    "Функции типа .read_формат и \n",
    ".to формат считывают и записывают данные соответственно. <br /> Полный список можно найти в документации:\n",
    "http://pandas.pydata.org/pandas-docs/stable/io.html\n",
    "\n",
    "Научимся считывать данные в формате csv (comma separated value) функцией:\n",
    "\n",
    "- <a href=\"http://pandas.pydata.org/pandas-docs/stable/generated/pandas.read_csv.html#pandas.read_csv\"> pd.read_csv()</a>: \n",
    "\n",
    "Аргументов у нее очень много, критически важные:\n",
    " - **filepath_or_buffer** - текстовая строка с названием (адресом) файла\n",
    " - **sep** - разделитель между данными\n",
    " - **header** - номер строки, в которой в файле указаны названия столбцов, None, если нет\n",
    " - **names** - список с названиями колонок\n",
    " - **index_col** - или номер столбца, или список,  или ничего - названия строк\n",
    " \n",
    " <a href=\"https://docs.google.com/spreadsheets/d/1tvaY9HyAyUwidqpZj11x_CVhlXHprnDog7JHou_3Tho/edit?usp=sharing\"> Скачайте данные </a>"
   ]
  },
  {
   "cell_type": "code",
   "execution_count": null,
   "metadata": {},
   "outputs": [],
   "source": [
    "#Скорее всего, данные в папке загрузки. \n",
    "#Если текущий ноутбук лежит у вас на компьютере в папке, отличной от папки, куда загрузились данные, нужно указать полный путь\n",
    "#Если оба файла в одной папке, достаточно указать FoodConsumptionInEurope.csv\n",
    "\n",
    "#у меня они в разных папках\n",
    "foodCons = pd.read_csv('/Users/ElenTevanyan/Documents/Преподское/Датасеты/FoodConsumptionInEurope.csv')\n",
    "#Выведем на печать\n",
    "foodCons"
   ]
  },
  {
   "cell_type": "code",
   "execution_count": null,
   "metadata": {},
   "outputs": [],
   "source": [
    "#Cчитаем так, чтобы первый столбец стал названием строк\n",
    "foodCons = pd.read_csv('/Users/ElenTevanyan/Documents/Преподское/Датасеты/FoodConsumptionInEurope.csv', index_col = 0)\n",
    "foodCons"
   ]
  },
  {
   "cell_type": "code",
   "execution_count": null,
   "metadata": {
    "scrolled": true
   },
   "outputs": [],
   "source": [
    "#транспонируем и применим метод head, чтобы посмотреть на первую строчку\n",
    "foodCons = foodCons.transpose()\n",
    "foodCons"
   ]
  },
  {
   "cell_type": "code",
   "execution_count": null,
   "metadata": {},
   "outputs": [],
   "source": [
    "#Запишем в папку рядом с вашим ноутбуком переделанный файл\n",
    "foodCons.to_csv('Food.csv')"
   ]
  },
  {
   "cell_type": "markdown",
   "metadata": {},
   "source": [
    "### Просмотр данных\n",
    "Методы:\n",
    "- head(): первые записи\n",
    "- tail(): последние записи\n",
    "- describe(): таблича с описательными статистиками"
   ]
  },
  {
   "cell_type": "code",
   "execution_count": null,
   "metadata": {},
   "outputs": [],
   "source": [
    "foodCons.head(1)"
   ]
  },
  {
   "cell_type": "code",
   "execution_count": null,
   "metadata": {},
   "outputs": [],
   "source": [
    "foodCons.tail(3)"
   ]
  },
  {
   "cell_type": "code",
   "execution_count": null,
   "metadata": {
    "scrolled": true
   },
   "outputs": [],
   "source": [
    "foodCons.describe()"
   ]
  },
  {
   "cell_type": "markdown",
   "metadata": {},
   "source": [
    "### Сортировка данных в таблице\n",
    "Методы:\n",
    "- sort_index - сортировка либо по столбцам, либо по строкам\n",
    "- sort_values - сортировка по значению"
   ]
  },
  {
   "cell_type": "code",
   "execution_count": null,
   "metadata": {},
   "outputs": [],
   "source": [
    "foodCons.sort_index(axis = 'index', ascending = False)"
   ]
  },
  {
   "cell_type": "code",
   "execution_count": null,
   "metadata": {},
   "outputs": [],
   "source": [
    "foodCons.sort_index(axis = 'columns', ascending = True)"
   ]
  },
  {
   "cell_type": "code",
   "execution_count": null,
   "metadata": {
    "scrolled": true
   },
   "outputs": [],
   "source": [
    "foodCons.sort_values(by = 'Eggs', ascending = True)"
   ]
  },
  {
   "cell_type": "markdown",
   "metadata": {},
   "source": [
    "### Выбор данных из датафрейма"
   ]
  },
  {
   "cell_type": "code",
   "execution_count": null,
   "metadata": {},
   "outputs": [],
   "source": [
    "#Выбор по столбцу\n",
    "#foodCons['RedMeat']\n",
    "foodCons.RedMeat"
   ]
  },
  {
   "cell_type": "code",
   "execution_count": null,
   "metadata": {},
   "outputs": [],
   "source": [
    "#Выбор по строкам\n",
    "foodCons[0:2]"
   ]
  },
  {
   "cell_type": "code",
   "execution_count": null,
   "metadata": {
    "scrolled": true
   },
   "outputs": [],
   "source": [
    "foodCons['Albania':'Belgium']"
   ]
  },
  {
   "cell_type": "code",
   "execution_count": null,
   "metadata": {},
   "outputs": [],
   "source": [
    "#Выбор строки по названию\n",
    "foodCons.loc['Austria']"
   ]
  },
  {
   "cell_type": "code",
   "execution_count": null,
   "metadata": {},
   "outputs": [],
   "source": [
    "#пара столбцов\n",
    "foodCons.loc[:, ['RedMeat', 'Eggs']]"
   ]
  },
  {
   "cell_type": "code",
   "execution_count": null,
   "metadata": {
    "scrolled": true
   },
   "outputs": [],
   "source": [
    "#пара столбцов\n",
    "foodCons.loc[['Austria','Belgium'], ['RedMeat', 'Eggs']]"
   ]
  },
  {
   "cell_type": "code",
   "execution_count": null,
   "metadata": {
    "scrolled": true
   },
   "outputs": [],
   "source": [
    "#пара столбцов\n",
    "foodCons.loc['Austria', 'RedMeat']"
   ]
  },
  {
   "cell_type": "code",
   "execution_count": null,
   "metadata": {},
   "outputs": [],
   "source": [
    "#Выбор строки по номеру\n",
    "foodCons.iloc[1]"
   ]
  },
  {
   "cell_type": "code",
   "execution_count": null,
   "metadata": {},
   "outputs": [],
   "source": [
    "#Выбор одного элемента\n",
    "foodCons.iloc[1,0]"
   ]
  },
  {
   "cell_type": "code",
   "execution_count": null,
   "metadata": {},
   "outputs": [],
   "source": [
    "foodCons.iloc[0:3,1:4]"
   ]
  },
  {
   "cell_type": "code",
   "execution_count": null,
   "metadata": {},
   "outputs": [],
   "source": [
    "foodCons.iloc[:,1]"
   ]
  },
  {
   "cell_type": "code",
   "execution_count": null,
   "metadata": {
    "scrolled": true
   },
   "outputs": [],
   "source": [
    "foodCons.iloc[1,:]"
   ]
  },
  {
   "cell_type": "markdown",
   "metadata": {},
   "source": [
    "### Выбор с условием\n",
    "\n",
    "Допустим, что нам нужны не только целом столбцы или \"слайсы\" данных, но данные, соответствующие определенным условиям"
   ]
  },
  {
   "cell_type": "code",
   "execution_count": null,
   "metadata": {},
   "outputs": [],
   "source": [
    "foodCons[foodCons > 5]"
   ]
  },
  {
   "cell_type": "code",
   "execution_count": null,
   "metadata": {},
   "outputs": [],
   "source": [
    "foodCons[foodCons['RedMeat'] > 5]"
   ]
  },
  {
   "cell_type": "code",
   "execution_count": null,
   "metadata": {},
   "outputs": [],
   "source": [
    "foodCons[foodCons['RedMeat'] > 5]['Eggs']"
   ]
  },
  {
   "cell_type": "markdown",
   "metadata": {},
   "source": [
    "### Вставка/Замена данных"
   ]
  },
  {
   "cell_type": "code",
   "execution_count": null,
   "metadata": {},
   "outputs": [],
   "source": [
    "foodCons.at['Austria', 'RedMeat'] = 9\n",
    "foodCons.loc['Austria']"
   ]
  },
  {
   "cell_type": "code",
   "execution_count": null,
   "metadata": {},
   "outputs": [],
   "source": [
    "foodCons.iat[1, 0] = 8.9\n",
    "foodCons.iloc[1,:]"
   ]
  },
  {
   "cell_type": "markdown",
   "metadata": {},
   "source": [
    "### Борьба с пропущенными значениями\n",
    "- pd.isna(DataFrame) - есть ли пропущенные\n",
    "- fillna(value = x) - заполнить пропуски данными\n",
    "- dropna(axis, how) - удалить строки или столбцы; how = 'any' - если хотя бы в одной ячейке есть пропуск; how = 'all' - если во всех ячейках есть пропуски"
   ]
  },
  {
   "cell_type": "code",
   "execution_count": null,
   "metadata": {},
   "outputs": [],
   "source": [
    "#сделаем так, чтобы в данных появились дыры\n",
    "foodCons = pd.read_csv('Food.csv', index_col = 0)\n",
    "foodCopy = foodCons[foodCons > 4]\n",
    "foodCopy"
   ]
  },
  {
   "cell_type": "code",
   "execution_count": null,
   "metadata": {},
   "outputs": [],
   "source": [
    "#Проверка на пропущенные значения\n",
    "pd.isna(foodCopy)"
   ]
  },
  {
   "cell_type": "code",
   "execution_count": null,
   "metadata": {
    "scrolled": true
   },
   "outputs": [],
   "source": [
    "foodCopy.fillna(value = 0)"
   ]
  },
  {
   "cell_type": "code",
   "execution_count": null,
   "metadata": {},
   "outputs": [],
   "source": [
    "foodCopy = foodCons[foodCons > 8]\n",
    "foodCopy.dropna(axis = 1, how = 'any')"
   ]
  },
  {
   "cell_type": "markdown",
   "metadata": {},
   "source": [
    "### Вставка столбцов и строк\n",
    "Столбцы вставляются очень просто. \n",
    "Например, добавим столбец с регионами Европы\n",
    "\n",
    "Европейские регионы: <br />\n",
    "- Северная Европа: 0 <br />\n",
    "- Южная Европа: 1 <br />\n",
    "- Западная Европа: 2 <br />\n",
    "- Восточная Европа: 3 <br />"
   ]
  },
  {
   "cell_type": "code",
   "execution_count": null,
   "metadata": {},
   "outputs": [],
   "source": [
    "foodCons['Region'] = [1, 2, 2, 3, 3, 0, 2, 0, 2, 1, 3, 2, 1, 2, 0, 3, 1, 3, 1, 0, 2, 2, 3, 2]\n",
    "foodCons"
   ]
  },
  {
   "cell_type": "markdown",
   "metadata": {},
   "source": [
    "А строчки - методом append"
   ]
  },
  {
   "cell_type": "code",
   "execution_count": null,
   "metadata": {
    "scrolled": true
   },
   "outputs": [],
   "source": [
    "s = foodCons.iloc[3]\n",
    "foodCons.append(s)"
   ]
  },
  {
   "cell_type": "markdown",
   "metadata": {},
   "source": [
    "### Группировка данных\n",
    "Метод groupby группирует по столбцу"
   ]
  },
  {
   "cell_type": "code",
   "execution_count": null,
   "metadata": {
    "scrolled": true
   },
   "outputs": [],
   "source": [
    "foodCons.groupby('Region').sum()"
   ]
  },
  {
   "cell_type": "markdown",
   "metadata": {},
   "source": [
    "## Задача 8\n",
    "Скачайте данные по <a href=https://www.dropbox.com/s/f2e3afgxw90qluw/yob2015.txt?dl=0>ссылке</a>. <br />\n",
    "В файле представлена информация об именах новорожденных в США в 2015 году в формате: \"name, gender, count\"\n",
    "\n",
    "0. Данные в формате .txt, но отлично считываются изученной функцией для чтения :)\n",
    "1. Укажите наименования заголовков Name, Gender, Count\n",
    "2. Выведите первые 10 строк\n",
    "3. Посчитайте, сколько всего новорожденных\n",
    "4. Посчитайте, сколько новорожденных девочек\n",
    "5. Посчитайте долю девочек среди новорожденных и округлите до двух знаков после запятой"
   ]
  },
  {
   "cell_type": "markdown",
   "metadata": {},
   "source": [
    "# Итоги\n",
    "## Функции\n",
    " - print()¶\n",
    " - input([prompt])\n",
    " - int()\n",
    " - float()\n",
    " - str()\n",
    " - bool()\n",
    " - range(start, stop[, step])\n",
    " \n",
    "## Условный оператор\n",
    "\n",
    "if условие1:<br />\n",
    "&emsp; команды<br />\n",
    "elif условие2:<br />\n",
    "&emsp; команды<br />\n",
    "elif условие3:<br />\n",
    "&emsp; команды<br />\n",
    "else:\n",
    "&emsp; команды<br />\n",
    "\n",
    "## Цикл while\n",
    "while условие1:<br />\n",
    "&emsp; команды<br />\n",
    "\n",
    "## Цикл for\n",
    "for i in диапазон_изменений_i:<br />\n",
    "&emsp; команды\n"
   ]
  }
 ],
 "metadata": {
  "kernelspec": {
   "display_name": "Python 3",
   "language": "python",
   "name": "python3"
  },
  "language_info": {
   "codemirror_mode": {
    "name": "ipython",
    "version": 3
   },
   "file_extension": ".py",
   "mimetype": "text/x-python",
   "name": "python",
   "nbconvert_exporter": "python",
   "pygments_lexer": "ipython3",
   "version": "3.6.4"
  }
 },
 "nbformat": 4,
 "nbformat_minor": 2
}
